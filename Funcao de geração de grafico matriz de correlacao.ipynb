{
 "cells": [
  {
   "cell_type": "code",
   "execution_count": 1,
   "metadata": {},
   "outputs": [],
   "source": [
    "import pandas as pd\n",
    "from sklearn import datasets\n",
    "iris = datasets.load_iris()\n",
    "x_values = pd.DataFrame(iris.data,columns=iris.feature_names)\n",
    "y_values = pd.DataFrame(iris.target,columns=['target'])\n",
    "irisDataFrame = pd.concat([x_values, y_values], axis=1)"
   ]
  },
  {
   "cell_type": "markdown",
   "metadata": {},
   "source": [
    "## Funcao de geração de grafico matriz de correlacao"
   ]
  },
  {
   "cell_type": "code",
   "execution_count": 2,
   "metadata": {},
   "outputs": [],
   "source": [
    "def graphic_matrix_correlation(pandas_dataframe, \n",
    "                               image_filename, \n",
    "                               titulo_do_grafico='',\n",
    "                               type_correlation='pearson',\n",
    "                               cor = 'RedYellowGreen',\n",
    "                               destacar='',\n",
    "                               valor=''):\n",
    "    #Types of correlation :pearson, kendall, spearman\n",
    "    #colors : RedYellowGreen , RedBlue\n",
    "    # destacar: maior, menor, igual\n",
    "    # valor: qualquer valor float\n",
    "    \n",
    "    \n",
    "    %matplotlib inline\n",
    "    import matplotlib.pyplot as plt\n",
    "    import numpy as np\n",
    "    if cor=='RedBlue':\n",
    "        mapa_cor='RdBu'\n",
    "    if cor=='RedYellowGreen':\n",
    "        mapa_cor='RdYlGn'\n",
    "        \n",
    "    if (destacar=='maior' and valor<>''):\n",
    "        corr_dataframe=pandas_dataframe.corr(type_correlation)>valor\n",
    "    elif(destacar=='menor' and valor<>''):\n",
    "        corr_dataframe=pandas_dataframe.corr(type_correlation)<valor\n",
    "    elif(destacar=='igual' and valor<>''):\n",
    "        corr_dataframe=pandas_dataframe.corr(type_correlation)==valor\n",
    "    else:\n",
    "        corr_dataframe=pandas_dataframe.corr(type_correlation)\n",
    "        \n",
    "       \n",
    "    lista_colunas = corr_dataframe.columns.tolist()\n",
    "    valores = corr_dataframe.values\n",
    "    \n",
    "    marcas_indices = np.arange(-0.5, len(lista_colunas)+0.5)\n",
    "    #w, h = plt.figure.figaspect(2.)\n",
    "    #fig = Figure(figsize=(w,h))\n",
    "    #w, h =plt.figure.figaspect(2.0)\n",
    "    #plt.figure(figsize=(7,5))\n",
    "    plt.figure()\n",
    "    plt.pcolor(valores, cmap=mapa_cor, vmin=-1, vmax=1)\n",
    "    barra_de_cores = plt.colorbar()\n",
    "    barra_de_cores.set_label('Rank de Correlacao ' +str.upper(type_correlation))\n",
    "    plt.title(titulo_do_grafico)\n",
    "    plt.xticks(1+marcas_indices, lista_colunas, rotation='vertical')\n",
    "    plt.yticks(1+marcas_indices, lista_colunas)\n",
    "    plt.savefig(image_filename)"
   ]
  },
  {
   "cell_type": "markdown",
   "metadata": {},
   "source": [
    "## Usando Funcao"
   ]
  },
  {
   "cell_type": "code",
   "execution_count": 3,
   "metadata": {},
   "outputs": [
    {
     "data": {
      "image/png": "[encoded data removed]",
      "text/plain": [
       "<Figure size 432x288 with 2 Axes>"
      ]
     },
     "metadata": {},
     "output_type": "display_data"
    }
   ],
   "source": [
    "graphic_matrix_correlation(irisDataFrame,'grafico_correlacao.png')"
   ]
  },
  {
   "cell_type": "code",
   "execution_count": null,
   "metadata": {},
   "outputs": [],
   "source": []
  }
 ],
 "metadata": {
  "kernelspec": {
   "display_name": "Python 2",
   "language": "python",
   "name": "python2"
  },
  "language_info": {
   "codemirror_mode": {
    "name": "ipython",
    "version": 2
   },
   "file_extension": ".py",
   "mimetype": "text/x-python",
   "name": "python",
   "nbconvert_exporter": "python",
   "pygments_lexer": "ipython2",
   "version": "2.7.12"
  }
 },
 "nbformat": 4,
 "nbformat_minor": 1
}
