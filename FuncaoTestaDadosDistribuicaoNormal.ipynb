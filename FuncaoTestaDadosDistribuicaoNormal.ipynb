{
 "cells": [
  {
   "cell_type": "markdown",
   "metadata": {},
   "source": [
    "## Importando iris dataset e transformando em dataframe"
   ]
  },
  {
   "cell_type": "code",
   "execution_count": 59,
   "metadata": {},
   "outputs": [
    {
     "data": {
      "text/html": [
       "<div>\n",
       "<style scoped>\n",
       "    .dataframe tbody tr th:only-of-type {\n",
       "        vertical-align: middle;\n",
       "    }\n",
       "\n",
       "    .dataframe tbody tr th {\n",
       "        vertical-align: top;\n",
       "    }\n",
       "\n",
       "    .dataframe thead th {\n",
       "        text-align: right;\n",
       "    }\n",
       "</style>\n",
       "<table border=\"1\" class=\"dataframe\">\n",
       "  <thead>\n",
       "    <tr style=\"text-align: right;\">\n",
       "      <th></th>\n",
       "      <th>sepal length (cm)</th>\n",
       "      <th>sepal width (cm)</th>\n",
       "      <th>petal length (cm)</th>\n",
       "      <th>petal width (cm)</th>\n",
       "      <th>target</th>\n",
       "    </tr>\n",
       "  </thead>\n",
       "  <tbody>\n",
       "    <tr>\n",
       "      <th>0</th>\n",
       "      <td>5.1</td>\n",
       "      <td>3.5</td>\n",
       "      <td>1.4</td>\n",
       "      <td>0.2</td>\n",
       "      <td>0</td>\n",
       "    </tr>\n",
       "    <tr>\n",
       "      <th>1</th>\n",
       "      <td>4.9</td>\n",
       "      <td>3.0</td>\n",
       "      <td>1.4</td>\n",
       "      <td>0.2</td>\n",
       "      <td>0</td>\n",
       "    </tr>\n",
       "    <tr>\n",
       "      <th>2</th>\n",
       "      <td>4.7</td>\n",
       "      <td>3.2</td>\n",
       "      <td>1.3</td>\n",
       "      <td>0.2</td>\n",
       "      <td>0</td>\n",
       "    </tr>\n",
       "    <tr>\n",
       "      <th>3</th>\n",
       "      <td>4.6</td>\n",
       "      <td>3.1</td>\n",
       "      <td>1.5</td>\n",
       "      <td>0.2</td>\n",
       "      <td>0</td>\n",
       "    </tr>\n",
       "    <tr>\n",
       "      <th>4</th>\n",
       "      <td>5.0</td>\n",
       "      <td>3.6</td>\n",
       "      <td>1.4</td>\n",
       "      <td>0.2</td>\n",
       "      <td>0</td>\n",
       "    </tr>\n",
       "  </tbody>\n",
       "</table>\n",
       "</div>"
      ],
      "text/plain": [
       "   sepal length (cm)  sepal width (cm)  petal length (cm)  petal width (cm)  \\\n",
       "0                5.1               3.5                1.4               0.2   \n",
       "1                4.9               3.0                1.4               0.2   \n",
       "2                4.7               3.2                1.3               0.2   \n",
       "3                4.6               3.1                1.5               0.2   \n",
       "4                5.0               3.6                1.4               0.2   \n",
       "\n",
       "   target  \n",
       "0       0  \n",
       "1       0  \n",
       "2       0  \n",
       "3       0  \n",
       "4       0  "
      ]
     },
     "execution_count": 59,
     "metadata": {},
     "output_type": "execute_result"
    }
   ],
   "source": [
    "import pandas as pd\n",
    "from sklearn import datasets\n",
    "iris = datasets.load_iris()\n",
    "x_values = pd.DataFrame(iris.data,columns=iris.feature_names)\n",
    "y_values = pd.DataFrame(iris.target,columns=['target'])\n",
    "irisDataFrame = pd.concat([x_values, y_values], axis=1)\n",
    "irisDataFrame.head()"
   ]
  },
  {
   "cell_type": "markdown",
   "metadata": {},
   "source": [
    "## Definindo funcao test_normal_results"
   ]
  },
  {
   "cell_type": "code",
   "execution_count": 60,
   "metadata": {},
   "outputs": [],
   "source": [
    "def test_normal_results(dados,lista_de_colunas=''):\n",
    "    #importando bibliotecas\n",
    "    from scipy import stats\n",
    "    import scipy\n",
    "    import matplotlib.pyplot as plt\n",
    "    \n",
    "    #carrega dados e cria lista de colunas\n",
    "    data=dados\n",
    "    if lista_de_colunas=='':\n",
    "        columns_list=data.columns.tolist()\n",
    "        #print(\"columns_list\",columns_list)\n",
    "    else:\n",
    "        columns_list=lista_de_colunas\n",
    "        \n",
    "    #loop para cada conjunto de dados com base na quantidade de conjuntos\n",
    "    norm=[]\n",
    "    for i in range(0,len(columns_list)):\n",
    "        #print(\"i len column_list\",columns_list[i],)\n",
    "        \n",
    "        #cria os graficos\n",
    "        plt.hist(data[columns_list[i]])\n",
    "        plt.title(columns_list[i])\n",
    "        plt.xlabel(\"Value\")\n",
    "        plt.ylabel(\"Frequency\")\n",
    "        plt.show()\n",
    "        print(\"Results: %s\"%columns_list[i])\n",
    "        #print(\"Statistic %f\"%norm[i][0])\n",
    "        #print(\"pvalue %f\"%norm[i][1])\n",
    "        \n",
    "        # verifica se e uma distribuicao normal com base em cada coluna de dados\n",
    "        norm.append(scipy.stats.normaltest(data[columns_list[i]]))\n",
    "        #obtem valor p e k2\n",
    "        k2, p = stats.normaltest(data[columns_list[i]])\n",
    "        #define alpha como margem \n",
    "        alpha = 1e-3\n",
    "        #imprime valor p\n",
    "        print(\"p = {:g}\".format(p))\n",
    "        #imprime valor k2\n",
    "        print(\"k2 = {:g}\".format(k2))\n",
    "        if p < alpha:  # null hypothesis: x comes from a normal distribution\n",
    "            print(\"The null hypothesis can be rejected, NÃO É UMA DISTRIBUICAO NORMAL\")\n",
    "        else:\n",
    "            print(\"The null hypothesis cannot be rejected, É UMA DISTRIBUICAO NORMAL\")\n",
    "            \n",
    "            \n",
    "            \n",
    "        print(\"        Statistic %f  --  pvalue %f\"%(norm[i][0],norm[i][1]))\n",
    "        print('==============================================================')\n",
    "    print(\"\"\" OBSERVACOES SOBRE RESULTADO\n",
    "\n",
    "        statistic : float or array\n",
    "            s^2 + k^2, where s is the z-score returned by skewtest and k is the z-score returned by kurtosistest.\n",
    "\n",
    "        pvalue : float or array\n",
    "            A 2-sided chi squared probability for the hypothesis test.\n",
    "    \"\"\")"
   ]
  },
  {
   "cell_type": "markdown",
   "metadata": {},
   "source": [
    "## Chamando funcao Normal Results"
   ]
  },
  {
   "cell_type": "code",
   "execution_count": 61,
   "metadata": {},
   "outputs": [
    {
     "data": {
      "image/png": "[encoded data removed]",
      "text/plain": [
       "<Figure size 432x288 with 1 Axes>"
      ]
     },
     "metadata": {},
     "output_type": "display_data"
    },
    {
     "name": "stdout",
     "output_type": "stream",
     "text": [
      "Results: sepal length (cm)\n",
      "p = 0.0568242\n",
      "k2 = 5.73558\n",
      "The null hypothesis cannot be rejected, É UMA DISTRIBUICAO NORMAL\n",
      "        Statistic 5.735584  --  pvalue 0.056824\n",
      "==============================================================\n"
     ]
    },
    {
     "data": {
      "image/png": "[encoded data removed]",
      "text/plain": [
       "<Figure size 432x288 with 1 Axes>"
      ]
     },
     "metadata": {},
     "output_type": "display_data"
    },
    {
     "name": "stdout",
     "output_type": "stream",
     "text": [
      "Results: sepal width (cm)\n",
      "p = 0.167241\n",
      "k2 = 3.57664\n",
      "The null hypothesis cannot be rejected, É UMA DISTRIBUICAO NORMAL\n",
      "        Statistic 3.576642  --  pvalue 0.167241\n",
      "==============================================================\n"
     ]
    },
    {
     "data": {
      "image/png": "[encoded data removed]",
      "text/plain": [
       "<Figure size 432x288 with 1 Axes>"
      ]
     },
     "metadata": {},
     "output_type": "display_data"
    },
    {
     "name": "stdout",
     "output_type": "stream",
     "text": [
      "Results: petal length (cm)\n",
      "p = 8.67787e-49\n",
      "k2 = 221.332\n",
      "The null hypothesis can be rejected, NÃO É UMA DISTRIBUICAO NORMAL\n",
      "        Statistic 221.331787  --  pvalue 0.000000\n",
      "==============================================================\n"
     ]
    },
    {
     "data": {
      "image/png": "[encoded data removed]",
      "text/plain": [
       "<Figure size 432x288 with 1 Axes>"
      ]
     },
     "metadata": {},
     "output_type": "display_data"
    },
    {
     "name": "stdout",
     "output_type": "stream",
     "text": [
      "Results: petal width (cm)\n",
      "p = 1.99181e-30\n",
      "k2 = 136.777\n",
      "The null hypothesis can be rejected, NÃO É UMA DISTRIBUICAO NORMAL\n",
      "        Statistic 136.777018  --  pvalue 0.000000\n",
      "==============================================================\n",
      " OBSERVACOES SOBRE RESULTADO\n",
      "\n",
      "        statistic : float or array\n",
      "            s^2 + k^2, where s is the z-score returned by skewtest and k is the z-score returned by kurtosistest.\n",
      "\n",
      "        pvalue : float or array\n",
      "            A 2-sided chi squared probability for the hypothesis test.\n",
      "    \n"
     ]
    }
   ],
   "source": [
    "test_normal_results(x_values)"
   ]
  }
 ],
 "metadata": {
  "kernelspec": {
   "display_name": "Python 2",
   "language": "python",
   "name": "python2"
  },
  "language_info": {
   "codemirror_mode": {
    "name": "ipython",
    "version": 2
   },
   "file_extension": ".py",
   "mimetype": "text/x-python",
   "name": "python",
   "nbconvert_exporter": "python",
   "pygments_lexer": "ipython2",
   "version": "2.7.12"
  }
 },
 "nbformat": 4,
 "nbformat_minor": 1
}
