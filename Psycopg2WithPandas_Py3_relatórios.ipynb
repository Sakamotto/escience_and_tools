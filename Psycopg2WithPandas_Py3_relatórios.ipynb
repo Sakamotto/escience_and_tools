{
 "cells": [
  {
   "cell_type": "markdown",
   "metadata": {},
   "source": [
    "# Conexão com postgres e Relatórios do Sistema"
   ]
  },
  {
   "cell_type": "markdown",
   "metadata": {},
   "source": [
    "## Instalando biblioteca de acesso com postgres e manipulação de dados e gráficos"
   ]
  },
  {
   "cell_type": "raw",
   "metadata": {},
   "source": [
    "!pip install --user psycopg2-binary\n",
    "!pip install --user seaborn\n",
    "!pip install --user pandas"
   ]
  },
  {
   "cell_type": "markdown",
   "metadata": {},
   "source": [
    "### Importando bibliotecas"
   ]
  },
  {
   "cell_type": "code",
   "execution_count": 1,
   "metadata": {},
   "outputs": [
    {
     "name": "stderr",
     "output_type": "stream",
     "text": [
      "/media/mso2/DATA/Backups_dinamicos/mv_permanentes_linux/Integrado/env35/lib/python3.5/site-packages/psycopg2/__init__.py:144: UserWarning: The psycopg2 wheel package will be renamed from release 2.8; in order to keep installing from binary please use \"pip install psycopg2-binary\" instead. For details see: <http://initd.org/psycopg/docs/install.html#binary-install-from-pypi>.\n",
      "  \"\"\")\n"
     ]
    }
   ],
   "source": [
    "import seaborn as sns\n",
    "import pandas as pd\n",
    "import psycopg2"
   ]
  },
  {
   "cell_type": "markdown",
   "metadata": {},
   "source": [
    "### Usando psycopg2 para configurar conexão"
   ]
  },
  {
   "cell_type": "code",
   "execution_count": 2,
   "metadata": {},
   "outputs": [],
   "source": [
    "conn = psycopg2.connect(host=\"localhost\",database=\"empresa\", user=\"postgres\", password=\"123456\")"
   ]
  },
  {
   "cell_type": "markdown",
   "metadata": {},
   "source": [
    "## Obtendo dados do database com Pandas"
   ]
  },
  {
   "cell_type": "markdown",
   "metadata": {},
   "source": [
    "# Relatório 1"
   ]
  },
  {
   "cell_type": "markdown",
   "metadata": {},
   "source": [
    "### Objetivo: Obter o número de supervisionados de cada supervisor\n"
   ]
  },
  {
   "cell_type": "markdown",
   "metadata": {},
   "source": [
    "Código para obtenção do resultado:"
   ]
  },
  {
   "cell_type": "code",
   "execution_count": 3,
   "metadata": {},
   "outputs": [],
   "source": [
    "test = pd.read_sql_query(\"\"\"\n",
    "                            select nome, count(rg_supervisor) as qtd_supervisionados\n",
    "                            \n",
    "                            from empregado as e \n",
    "                            inner join empregado_projeto ep \n",
    "                            on e.rg = ep.rg_empregado \n",
    "                            group by nome\n",
    "                            \"\"\",conn)"
   ]
  },
  {
   "cell_type": "code",
   "execution_count": 4,
   "metadata": {},
   "outputs": [
    {
     "data": {
      "text/html": [
       "<div>\n",
       "<style scoped>\n",
       "    .dataframe tbody tr th:only-of-type {\n",
       "        vertical-align: middle;\n",
       "    }\n",
       "\n",
       "    .dataframe tbody tr th {\n",
       "        vertical-align: top;\n",
       "    }\n",
       "\n",
       "    .dataframe thead th {\n",
       "        text-align: right;\n",
       "    }\n",
       "</style>\n",
       "<table border=\"1\" class=\"dataframe\">\n",
       "  <thead>\n",
       "    <tr style=\"text-align: right;\">\n",
       "      <th></th>\n",
       "      <th>nome</th>\n",
       "      <th>qtd_supervisionados</th>\n",
       "    </tr>\n",
       "  </thead>\n",
       "  <tbody>\n",
       "    <tr>\n",
       "      <th>0</th>\n",
       "      <td>João Antonio</td>\n",
       "      <td>1</td>\n",
       "    </tr>\n",
       "    <tr>\n",
       "      <th>1</th>\n",
       "      <td>Ricardo</td>\n",
       "      <td>1</td>\n",
       "    </tr>\n",
       "    <tr>\n",
       "      <th>2</th>\n",
       "      <td>Fernanda</td>\n",
       "      <td>2</td>\n",
       "    </tr>\n",
       "    <tr>\n",
       "      <th>3</th>\n",
       "      <td>Renata</td>\n",
       "      <td>1</td>\n",
       "    </tr>\n",
       "    <tr>\n",
       "      <th>4</th>\n",
       "      <td>Jorge</td>\n",
       "      <td>1</td>\n",
       "    </tr>\n",
       "  </tbody>\n",
       "</table>\n",
       "</div>"
      ],
      "text/plain": [
       "           nome  qtd_supervisionados\n",
       "0  João Antonio                    1\n",
       "1       Ricardo                    1\n",
       "2      Fernanda                    2\n",
       "3        Renata                    1\n",
       "4         Jorge                    1"
      ]
     },
     "execution_count": 4,
     "metadata": {},
     "output_type": "execute_result"
    }
   ],
   "source": [
    "test"
   ]
  },
  {
   "cell_type": "markdown",
   "metadata": {},
   "source": [
    "# Relatorio2"
   ]
  },
  {
   "cell_type": "markdown",
   "metadata": {},
   "source": [
    "### Objetivo: Obter valor médio dos salários por departamento"
   ]
  },
  {
   "cell_type": "markdown",
   "metadata": {},
   "source": [
    "codigo para obtenção do resultado:"
   ]
  },
  {
   "cell_type": "code",
   "execution_count": 5,
   "metadata": {},
   "outputs": [],
   "source": [
    "result = pd.read_sql_query(\"\"\"\n",
    "                            select dep.nome as departamento,avg(salario) as media_de_salarios_dep\n",
    "                            from empregado emp \n",
    "                            inner join departamento dep\n",
    "                            on (emp.depto = dep.numero)\n",
    "                            group by dep.nome\n",
    "                            order by avg(salario)\n",
    "                            \"\"\",conn)"
   ]
  },
  {
   "cell_type": "code",
   "execution_count": 6,
   "metadata": {},
   "outputs": [
    {
     "data": {
      "text/html": [
       "<div>\n",
       "<style scoped>\n",
       "    .dataframe tbody tr th:only-of-type {\n",
       "        vertical-align: middle;\n",
       "    }\n",
       "\n",
       "    .dataframe tbody tr th {\n",
       "        vertical-align: top;\n",
       "    }\n",
       "\n",
       "    .dataframe thead th {\n",
       "        text-align: right;\n",
       "    }\n",
       "</style>\n",
       "<table border=\"1\" class=\"dataframe\">\n",
       "  <thead>\n",
       "    <tr style=\"text-align: right;\">\n",
       "      <th></th>\n",
       "      <th>departamento</th>\n",
       "      <th>media_de_salarios_dep</th>\n",
       "    </tr>\n",
       "  </thead>\n",
       "  <tbody>\n",
       "    <tr>\n",
       "      <th>0</th>\n",
       "      <td>Engenharia Civil</td>\n",
       "      <td>2266.666667</td>\n",
       "    </tr>\n",
       "    <tr>\n",
       "      <th>1</th>\n",
       "      <td>Engenharia Mecânica</td>\n",
       "      <td>2500.000000</td>\n",
       "    </tr>\n",
       "    <tr>\n",
       "      <th>2</th>\n",
       "      <td>Contabilidade</td>\n",
       "      <td>5150.000000</td>\n",
       "    </tr>\n",
       "  </tbody>\n",
       "</table>\n",
       "</div>"
      ],
      "text/plain": [
       "          departamento  media_de_salarios_dep\n",
       "0     Engenharia Civil            2266.666667\n",
       "1  Engenharia Mecânica            2500.000000\n",
       "2        Contabilidade            5150.000000"
      ]
     },
     "execution_count": 6,
     "metadata": {},
     "output_type": "execute_result"
    }
   ],
   "source": [
    "result"
   ]
  },
  {
   "cell_type": "markdown",
   "metadata": {},
   "source": [
    "Alternativamente podemos aplicar estilos a tabela para melhor formatação usando pandas e seaborn"
   ]
  },
  {
   "cell_type": "code",
   "execution_count": 7,
   "metadata": {},
   "outputs": [
    {
     "data": {
      "text/html": [
       "<style  type=\"text/css\" >\n",
       "    #T_d06f703e_edb1_11e8_bc0d_f8da0c843bbfrow0_col1 {\n",
       "            background-color:  #e5ffe5;\n",
       "        }    #T_d06f703e_edb1_11e8_bc0d_f8da0c843bbfrow1_col1 {\n",
       "            background-color:  #d3f5d3;\n",
       "        }    #T_d06f703e_edb1_11e8_bc0d_f8da0c843bbfrow2_col1 {\n",
       "            background-color:  #008000;\n",
       "        }</style>  \n",
       "<table id=\"T_d06f703e_edb1_11e8_bc0d_f8da0c843bbf\" > \n",
       "<thead>    <tr> \n",
       "        <th class=\"blank level0\" ></th> \n",
       "        <th class=\"col_heading level0 col0\" >departamento</th> \n",
       "        <th class=\"col_heading level0 col1\" >media_de_salarios_dep</th> \n",
       "    </tr></thead> \n",
       "<tbody>    <tr> \n",
       "        <th id=\"T_d06f703e_edb1_11e8_bc0d_f8da0c843bbflevel0_row0\" class=\"row_heading level0 row0\" >0</th> \n",
       "        <td id=\"T_d06f703e_edb1_11e8_bc0d_f8da0c843bbfrow0_col0\" class=\"data row0 col0\" >Engenharia Civil</td> \n",
       "        <td id=\"T_d06f703e_edb1_11e8_bc0d_f8da0c843bbfrow0_col1\" class=\"data row0 col1\" >2266.67</td> \n",
       "    </tr>    <tr> \n",
       "        <th id=\"T_d06f703e_edb1_11e8_bc0d_f8da0c843bbflevel0_row1\" class=\"row_heading level0 row1\" >1</th> \n",
       "        <td id=\"T_d06f703e_edb1_11e8_bc0d_f8da0c843bbfrow1_col0\" class=\"data row1 col0\" >Engenharia Mecânica</td> \n",
       "        <td id=\"T_d06f703e_edb1_11e8_bc0d_f8da0c843bbfrow1_col1\" class=\"data row1 col1\" >2500</td> \n",
       "    </tr>    <tr> \n",
       "        <th id=\"T_d06f703e_edb1_11e8_bc0d_f8da0c843bbflevel0_row2\" class=\"row_heading level0 row2\" >2</th> \n",
       "        <td id=\"T_d06f703e_edb1_11e8_bc0d_f8da0c843bbfrow2_col0\" class=\"data row2 col0\" >Contabilidade</td> \n",
       "        <td id=\"T_d06f703e_edb1_11e8_bc0d_f8da0c843bbfrow2_col1\" class=\"data row2 col1\" >5150</td> \n",
       "    </tr></tbody> \n",
       "</table> "
      ],
      "text/plain": [
       "<pandas.io.formats.style.Styler at 0x7fc08ee62ba8>"
      ]
     },
     "execution_count": 7,
     "metadata": {},
     "output_type": "execute_result"
    }
   ],
   "source": [
    "df = pd.DataFrame(result)\n",
    "cm = sns.light_palette(\"green\", as_cmap=True)\n",
    "df.style.background_gradient(cmap=cm)"
   ]
  },
  {
   "cell_type": "markdown",
   "metadata": {},
   "source": [
    "Podemos também utilizar o matplotlib que é instalado por padrão com o seaborn"
   ]
  },
  {
   "cell_type": "code",
   "execution_count": 8,
   "metadata": {},
   "outputs": [
    {
     "data": {
      "text/plain": [
       "[<matplotlib.lines.Line2D at 0x7fc08cbf9b38>]"
      ]
     },
     "execution_count": 8,
     "metadata": {},
     "output_type": "execute_result"
    },
    {
     "data": {
      "image/png": "[encoded data removed]",
      "text/plain": [
       "<Figure size 432x288 with 1 Axes>"
      ]
     },
     "metadata": {
      "needs_background": "light"
     },
     "output_type": "display_data"
    }
   ],
   "source": [
    "import matplotlib.pyplot as plt\n",
    "plt.plot(df.departamento, df.media_de_salarios_dep)\n"
   ]
  },
  {
   "cell_type": "code",
   "execution_count": 9,
   "metadata": {},
   "outputs": [
    {
     "data": {
      "image/png": "[encoded data removed]",
      "text/plain": [
       "<Figure size 640x480 with 1 Axes>"
      ]
     },
     "metadata": {},
     "output_type": "display_data"
    }
   ],
   "source": [
    "import matplotlib.pyplot as plt; plt.rcdefaults()\n",
    "import numpy as np\n",
    "import matplotlib.pyplot as plt\n",
    " \n",
    "objects = tuple(df.departamento)\n",
    "y_pos = np.arange(len(objects))\n",
    "performance = list(df.media_de_salarios_dep)\n",
    " \n",
    "plt.bar(y_pos, performance, align='center', alpha=0.5)\n",
    "plt.xticks(y_pos, objects)\n",
    "plt.ylabel('Salário Médio')\n",
    "plt.title('Departamento')\n",
    " \n",
    "plt.show()"
   ]
  },
  {
   "cell_type": "markdown",
   "metadata": {},
   "source": [
    "References"
   ]
  },
  {
   "cell_type": "markdown",
   "metadata": {},
   "source": [
    "## Relatório 3"
   ]
  },
  {
   "cell_type": "markdown",
   "metadata": {},
   "source": [
    "### Objetivo: Obtenção de aumento de custo de 20% ao ano por funcionário"
   ]
  },
  {
   "cell_type": "markdown",
   "metadata": {},
   "source": [
    "codigo para obtenção do resultado:"
   ]
  },
  {
   "cell_type": "code",
   "execution_count": 10,
   "metadata": {},
   "outputs": [],
   "source": [
    "result = pd.read_sql_query(\"\"\"\n",
    "                            select nome,\n",
    "                            salario,\n",
    "                            salario*1.2 as salario_com_aumento,\n",
    "                            salario*1.2 - salario as diferenca_valores \n",
    "                            from empregado\n",
    "                            order by diferenca_valores desc\n",
    "                            \"\"\",conn)"
   ]
  },
  {
   "cell_type": "code",
   "execution_count": 11,
   "metadata": {},
   "outputs": [
    {
     "data": {
      "text/html": [
       "<div>\n",
       "<style scoped>\n",
       "    .dataframe tbody tr th:only-of-type {\n",
       "        vertical-align: middle;\n",
       "    }\n",
       "\n",
       "    .dataframe tbody tr th {\n",
       "        vertical-align: top;\n",
       "    }\n",
       "\n",
       "    .dataframe thead th {\n",
       "        text-align: right;\n",
       "    }\n",
       "</style>\n",
       "<table border=\"1\" class=\"dataframe\">\n",
       "  <thead>\n",
       "    <tr style=\"text-align: right;\">\n",
       "      <th></th>\n",
       "      <th>nome</th>\n",
       "      <th>salario</th>\n",
       "      <th>salario_com_aumento</th>\n",
       "      <th>diferenca_valores</th>\n",
       "    </tr>\n",
       "  </thead>\n",
       "  <tbody>\n",
       "    <tr>\n",
       "      <th>0</th>\n",
       "      <td>João Luiz</td>\n",
       "      <td>6000.0</td>\n",
       "      <td>7200.0</td>\n",
       "      <td>1200.0</td>\n",
       "    </tr>\n",
       "    <tr>\n",
       "      <th>1</th>\n",
       "      <td>Fernanda</td>\n",
       "      <td>5500.0</td>\n",
       "      <td>6600.0</td>\n",
       "      <td>1100.0</td>\n",
       "    </tr>\n",
       "    <tr>\n",
       "      <th>2</th>\n",
       "      <td>João Antonio</td>\n",
       "      <td>3950.0</td>\n",
       "      <td>4740.0</td>\n",
       "      <td>790.0</td>\n",
       "    </tr>\n",
       "    <tr>\n",
       "      <th>3</th>\n",
       "      <td>Jorge</td>\n",
       "      <td>3200.0</td>\n",
       "      <td>3840.0</td>\n",
       "      <td>640.0</td>\n",
       "    </tr>\n",
       "    <tr>\n",
       "      <th>4</th>\n",
       "      <td>Luiz Renato</td>\n",
       "      <td>3000.0</td>\n",
       "      <td>3600.0</td>\n",
       "      <td>600.0</td>\n",
       "    </tr>\n",
       "    <tr>\n",
       "      <th>5</th>\n",
       "      <td>Ricardo</td>\n",
       "      <td>2300.0</td>\n",
       "      <td>2760.0</td>\n",
       "      <td>460.0</td>\n",
       "    </tr>\n",
       "    <tr>\n",
       "      <th>6</th>\n",
       "      <td>Luiz Fernando</td>\n",
       "      <td>2000.0</td>\n",
       "      <td>2400.0</td>\n",
       "      <td>400.0</td>\n",
       "    </tr>\n",
       "    <tr>\n",
       "      <th>7</th>\n",
       "      <td>Renata</td>\n",
       "      <td>1300.0</td>\n",
       "      <td>1560.0</td>\n",
       "      <td>260.0</td>\n",
       "    </tr>\n",
       "  </tbody>\n",
       "</table>\n",
       "</div>"
      ],
      "text/plain": [
       "            nome  salario  salario_com_aumento  diferenca_valores\n",
       "0      João Luiz   6000.0               7200.0             1200.0\n",
       "1       Fernanda   5500.0               6600.0             1100.0\n",
       "2   João Antonio   3950.0               4740.0              790.0\n",
       "3          Jorge   3200.0               3840.0              640.0\n",
       "4    Luiz Renato   3000.0               3600.0              600.0\n",
       "5        Ricardo   2300.0               2760.0              460.0\n",
       "6  Luiz Fernando   2000.0               2400.0              400.0\n",
       "7         Renata   1300.0               1560.0              260.0"
      ]
     },
     "execution_count": 11,
     "metadata": {},
     "output_type": "execute_result"
    }
   ],
   "source": [
    "result"
   ]
  },
  {
   "cell_type": "markdown",
   "metadata": {},
   "source": [
    "## Relatório 4"
   ]
  },
  {
   "cell_type": "markdown",
   "metadata": {},
   "source": [
    "### Objetivo: Obter valor total gasto com salários por departamento, média de valor salarial por departamento, total de horas de trabalho por departamento, e media de horas de trabalho por departamento "
   ]
  },
  {
   "cell_type": "markdown",
   "metadata": {},
   "source": [
    "codigo para obtenção do resultado:"
   ]
  },
  {
   "cell_type": "code",
   "execution_count": 12,
   "metadata": {},
   "outputs": [],
   "source": [
    "result = pd.read_sql_query(\"\"\"\n",
    "                            select dept.nome,\n",
    "                            sum(e.salario) as soma_valor_de_salarios,\n",
    "                            avg(e.salario) as media_salario,\n",
    "                            sum(ep.horas) as soma_horas_de_trabalho,\n",
    "                            avg(ep.horas) as media_horas_trabalho\n",
    "                            from empregado as e \n",
    "                            inner join empregado_projeto ep \n",
    "                            on e.rg = ep.rg_empregado \n",
    "                            inner join departamento dept\n",
    "                            on e.depto = dept.numero\n",
    "                            group by dept.nome\n",
    "                            \"\"\",conn)"
   ]
  },
  {
   "cell_type": "code",
   "execution_count": 13,
   "metadata": {},
   "outputs": [
    {
     "data": {
      "text/html": [
       "<div>\n",
       "<style scoped>\n",
       "    .dataframe tbody tr th:only-of-type {\n",
       "        vertical-align: middle;\n",
       "    }\n",
       "\n",
       "    .dataframe tbody tr th {\n",
       "        vertical-align: top;\n",
       "    }\n",
       "\n",
       "    .dataframe thead th {\n",
       "        text-align: right;\n",
       "    }\n",
       "</style>\n",
       "<table border=\"1\" class=\"dataframe\">\n",
       "  <thead>\n",
       "    <tr style=\"text-align: right;\">\n",
       "      <th></th>\n",
       "      <th>nome</th>\n",
       "      <th>soma_valor_de_salarios</th>\n",
       "      <th>media_salario</th>\n",
       "      <th>soma_horas_de_trabalho</th>\n",
       "      <th>media_horas_trabalho</th>\n",
       "    </tr>\n",
       "  </thead>\n",
       "  <tbody>\n",
       "    <tr>\n",
       "      <th>0</th>\n",
       "      <td>Contabilidade</td>\n",
       "      <td>14950.0</td>\n",
       "      <td>4983.333333</td>\n",
       "      <td>105</td>\n",
       "      <td>35.0</td>\n",
       "    </tr>\n",
       "    <tr>\n",
       "      <th>1</th>\n",
       "      <td>Engenharia Civil</td>\n",
       "      <td>6800.0</td>\n",
       "      <td>2266.666667</td>\n",
       "      <td>120</td>\n",
       "      <td>40.0</td>\n",
       "    </tr>\n",
       "  </tbody>\n",
       "</table>\n",
       "</div>"
      ],
      "text/plain": [
       "               nome  soma_valor_de_salarios  media_salario  \\\n",
       "0     Contabilidade                 14950.0    4983.333333   \n",
       "1  Engenharia Civil                  6800.0    2266.666667   \n",
       "\n",
       "   soma_horas_de_trabalho  media_horas_trabalho  \n",
       "0                     105                  35.0  \n",
       "1                     120                  40.0  "
      ]
     },
     "execution_count": 13,
     "metadata": {},
     "output_type": "execute_result"
    }
   ],
   "source": [
    "result"
   ]
  },
  {
   "cell_type": "code",
   "execution_count": 14,
   "metadata": {},
   "outputs": [
    {
     "data": {
      "image/png": "[encoded data removed]",
      "text/plain": [
       "<Figure size 640x480 with 1 Axes>"
      ]
     },
     "metadata": {},
     "output_type": "display_data"
    }
   ],
   "source": [
    "df = pd.DataFrame(result)\n",
    "cm = sns.light_palette(\"blue\", as_cmap=True)\n",
    "df.style.background_gradient(cmap=cm)\n",
    "\n",
    "import matplotlib.pyplot as plt; plt.rcdefaults()\n",
    "import numpy as np\n",
    "import matplotlib.pyplot as plt\n",
    " \n",
    "objects = tuple(df.nome)\n",
    "y_pos = np.arange(len(objects))\n",
    "performance = list(df.soma_valor_de_salarios)\n",
    " \n",
    "plt.bar(y_pos, performance, align='center', alpha=0.5)\n",
    "plt.xticks(y_pos, objects)\n",
    "plt.ylabel('Salário Médio')\n",
    "plt.title('Departamento')\n",
    " \n",
    "plt.show()"
   ]
  },
  {
   "cell_type": "code",
   "execution_count": 15,
   "metadata": {},
   "outputs": [
    {
     "data": {
      "text/plain": [
       "Index(['nome', 'soma_valor_de_salarios', 'media_salario',\n",
       "       'soma_horas_de_trabalho', 'media_horas_trabalho'],\n",
       "      dtype='object')"
      ]
     },
     "execution_count": 15,
     "metadata": {},
     "output_type": "execute_result"
    }
   ],
   "source": [
    "df.columns"
   ]
  },
  {
   "cell_type": "code",
   "execution_count": 16,
   "metadata": {},
   "outputs": [
    {
     "data": {
      "image/png": "[encoded data removed]",
      "text/plain": [
       "<Figure size 640x480 with 1 Axes>"
      ]
     },
     "metadata": {},
     "output_type": "display_data"
    }
   ],
   "source": [
    "import numpy as np\n",
    "import matplotlib.pyplot as plt\n",
    " \n",
    "# dados para plotagem\n",
    "qtd_grupos = len(tuple(df.nome))\n",
    "index = np.arange(qtd_grupos)\n",
    "means_dinamic =[]\n",
    "for i in range (qtd_grupos):\n",
    "    med_horas =df.loc[[i],'soma_valor_de_salarios']\n",
    "    med_sal =df.loc[[i],'media_salario']\n",
    "    medias =tuple([med_horas[i],med_sal[i]])\n",
    "    means_dinamic.append(medias)\n",
    "\n",
    "# criando grafico\n",
    "fig, ax = plt.subplots()\n",
    "index = np.arange(qtd_grupos)\n",
    "bar_width = 0.35\n",
    "opacity = 0.8\n",
    "cores=['g','b']\n",
    " \n",
    "\n",
    "rects1 = plt.bar(index, means_dinamic[0], bar_width,\n",
    "                 alpha=opacity,\n",
    "                 color=cores[0],\n",
    "                 label=df.nome[0])\n",
    " \n",
    "rects2 = plt.bar(index + bar_width, means_dinamic[1], bar_width,\n",
    "                 alpha=opacity,\n",
    "                 color=cores[1],\n",
    "                 label=df.nome[1])\n",
    " \n",
    "plt.xlabel('metricas')\n",
    "plt.ylabel('Valores')\n",
    "plt.title('Soma total é média de salario gasto por departamento')\n",
    "plt.xticks((index + bar_width/2), ('soma_valor_de_salarios','media_salario'))\n",
    "plt.legend()\n",
    "plt.show()"
   ]
  },
  {
   "cell_type": "code",
   "execution_count": 17,
   "metadata": {},
   "outputs": [
    {
     "data": {
      "text/html": [
       "<div>\n",
       "<style scoped>\n",
       "    .dataframe tbody tr th:only-of-type {\n",
       "        vertical-align: middle;\n",
       "    }\n",
       "\n",
       "    .dataframe tbody tr th {\n",
       "        vertical-align: top;\n",
       "    }\n",
       "\n",
       "    .dataframe thead th {\n",
       "        text-align: right;\n",
       "    }\n",
       "</style>\n",
       "<table border=\"1\" class=\"dataframe\">\n",
       "  <thead>\n",
       "    <tr style=\"text-align: right;\">\n",
       "      <th></th>\n",
       "      <th>nome</th>\n",
       "      <th>soma_valor_de_salarios</th>\n",
       "      <th>media_salario</th>\n",
       "      <th>soma_horas_de_trabalho</th>\n",
       "      <th>media_horas_trabalho</th>\n",
       "    </tr>\n",
       "  </thead>\n",
       "  <tbody>\n",
       "    <tr>\n",
       "      <th>0</th>\n",
       "      <td>Contabilidade</td>\n",
       "      <td>14950.0</td>\n",
       "      <td>4983.333333</td>\n",
       "      <td>105</td>\n",
       "      <td>35.0</td>\n",
       "    </tr>\n",
       "    <tr>\n",
       "      <th>1</th>\n",
       "      <td>Engenharia Civil</td>\n",
       "      <td>6800.0</td>\n",
       "      <td>2266.666667</td>\n",
       "      <td>120</td>\n",
       "      <td>40.0</td>\n",
       "    </tr>\n",
       "  </tbody>\n",
       "</table>\n",
       "</div>"
      ],
      "text/plain": [
       "               nome  soma_valor_de_salarios  media_salario  \\\n",
       "0     Contabilidade                 14950.0    4983.333333   \n",
       "1  Engenharia Civil                  6800.0    2266.666667   \n",
       "\n",
       "   soma_horas_de_trabalho  media_horas_trabalho  \n",
       "0                     105                  35.0  \n",
       "1                     120                  40.0  "
      ]
     },
     "execution_count": 17,
     "metadata": {},
     "output_type": "execute_result"
    }
   ],
   "source": [
    "df"
   ]
  },
  {
   "cell_type": "markdown",
   "metadata": {},
   "source": [
    "# Referências"
   ]
  },
  {
   "cell_type": "markdown",
   "metadata": {},
   "source": [
    "https://pandas.pydata.org/pandas-docs/stable/style.html <br>\n",
    "https://pythonspot.com/matplotlib-bar-chart/<br>\n",
    "https://pandas.pydata.org/pandas-docs/stable/generated/pandas.DataFrame.loc.html <br>"
   ]
  }
 ],
 "metadata": {
  "kernelspec": {
   "display_name": "Python 3",
   "language": "python",
   "name": "python3"
  },
  "language_info": {
   "codemirror_mode": {
    "name": "ipython",
    "version": 3
   },
   "file_extension": ".py",
   "mimetype": "text/x-python",
   "name": "python",
   "nbconvert_exporter": "python",
   "pygments_lexer": "ipython3",
   "version": "3.5.2"
  }
 },
 "nbformat": 4,
 "nbformat_minor": 2
}
